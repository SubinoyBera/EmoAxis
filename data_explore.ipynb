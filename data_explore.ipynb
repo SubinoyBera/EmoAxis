{
 "cells": [
  {
   "cell_type": "markdown",
   "id": "351bee57",
   "metadata": {},
   "source": [
    "# GO EMOTIONS"
   ]
  },
  {
   "cell_type": "code",
   "execution_count": 30,
   "id": "aa64edd4",
   "metadata": {},
   "outputs": [],
   "source": [
    "import pandas as pd\n",
    "import numpy as np"
   ]
  },
  {
   "cell_type": "code",
   "execution_count": null,
   "id": "ca039aa5",
   "metadata": {},
   "outputs": [],
   "source": [
    "from datasets import load_dataset\n",
    "ds = load_dataset(\"go_emotions\", split=\"train\")\n",
    "df = ds.to_pandas()\n",
    "df.to_csv(\"go_emotions_train.csv\", index=False)"
   ]
  },
  {
   "cell_type": "code",
   "execution_count": 32,
   "id": "f5d9704f",
   "metadata": {},
   "outputs": [],
   "source": [
    "df = pd.read_csv(\"go_emotions_train.csv\")"
   ]
  },
  {
   "cell_type": "code",
   "execution_count": 33,
   "id": "10d69af3",
   "metadata": {},
   "outputs": [
    {
     "data": {
      "text/plain": [
       "(43410, 3)"
      ]
     },
     "execution_count": 33,
     "metadata": {},
     "output_type": "execute_result"
    }
   ],
   "source": [
    "df.shape"
   ]
  },
  {
   "cell_type": "code",
   "execution_count": 33,
   "id": "51610a0f",
   "metadata": {},
   "outputs": [
    {
     "data": {
      "text/html": [
       "<div>\n",
       "<style scoped>\n",
       "    .dataframe tbody tr th:only-of-type {\n",
       "        vertical-align: middle;\n",
       "    }\n",
       "\n",
       "    .dataframe tbody tr th {\n",
       "        vertical-align: top;\n",
       "    }\n",
       "\n",
       "    .dataframe thead th {\n",
       "        text-align: right;\n",
       "    }\n",
       "</style>\n",
       "<table border=\"1\" class=\"dataframe\">\n",
       "  <thead>\n",
       "    <tr style=\"text-align: right;\">\n",
       "      <th></th>\n",
       "      <th>text</th>\n",
       "      <th>labels</th>\n",
       "      <th>id</th>\n",
       "    </tr>\n",
       "  </thead>\n",
       "  <tbody>\n",
       "    <tr>\n",
       "      <th>0</th>\n",
       "      <td>My favourite food is anything I didn't have to...</td>\n",
       "      <td>[27]</td>\n",
       "      <td>eebbqej</td>\n",
       "    </tr>\n",
       "    <tr>\n",
       "      <th>1</th>\n",
       "      <td>Now if he does off himself, everyone will thin...</td>\n",
       "      <td>[27]</td>\n",
       "      <td>ed00q6i</td>\n",
       "    </tr>\n",
       "    <tr>\n",
       "      <th>2</th>\n",
       "      <td>WHY THE FUCK IS BAYLESS ISOING</td>\n",
       "      <td>[2]</td>\n",
       "      <td>eezlygj</td>\n",
       "    </tr>\n",
       "    <tr>\n",
       "      <th>3</th>\n",
       "      <td>To make her feel threatened</td>\n",
       "      <td>[14]</td>\n",
       "      <td>ed7ypvh</td>\n",
       "    </tr>\n",
       "    <tr>\n",
       "      <th>4</th>\n",
       "      <td>Dirty Southern Wankers</td>\n",
       "      <td>[3]</td>\n",
       "      <td>ed0bdzj</td>\n",
       "    </tr>\n",
       "  </tbody>\n",
       "</table>\n",
       "</div>"
      ],
      "text/plain": [
       "                                                text labels       id\n",
       "0  My favourite food is anything I didn't have to...   [27]  eebbqej\n",
       "1  Now if he does off himself, everyone will thin...   [27]  ed00q6i\n",
       "2                     WHY THE FUCK IS BAYLESS ISOING    [2]  eezlygj\n",
       "3                        To make her feel threatened   [14]  ed7ypvh\n",
       "4                             Dirty Southern Wankers    [3]  ed0bdzj"
      ]
     },
     "execution_count": 33,
     "metadata": {},
     "output_type": "execute_result"
    }
   ],
   "source": [
    "df.head()"
   ]
  },
  {
   "cell_type": "code",
   "execution_count": 109,
   "id": "bf5686a5",
   "metadata": {},
   "outputs": [
    {
     "data": {
      "text/plain": [
       "'Massive overlap. I have been vegan for 10 years and anti birth around the same time for the reasons you note.'"
      ]
     },
     "execution_count": 109,
     "metadata": {},
     "output_type": "execute_result"
    }
   ],
   "source": [
    "df[\"text\"].iloc[37957]"
   ]
  },
  {
   "cell_type": "code",
   "execution_count": 53,
   "id": "42076894",
   "metadata": {},
   "outputs": [
    {
     "data": {
      "text/plain": [
       "str"
      ]
     },
     "execution_count": 53,
     "metadata": {},
     "output_type": "execute_result"
    }
   ],
   "source": [
    "type(df[\"labels\"].iloc[3])"
   ]
  },
  {
   "cell_type": "code",
   "execution_count": 25,
   "id": "f1c98a7e",
   "metadata": {},
   "outputs": [
    {
     "name": "stdout",
     "output_type": "stream",
     "text": [
      "<class 'pandas.core.frame.DataFrame'>\n",
      "RangeIndex: 43410 entries, 0 to 43409\n",
      "Data columns (total 3 columns):\n",
      " #   Column  Non-Null Count  Dtype \n",
      "---  ------  --------------  ----- \n",
      " 0   text    43410 non-null  object\n",
      " 1   labels  43410 non-null  object\n",
      " 2   id      43410 non-null  object\n",
      "dtypes: object(3)\n",
      "memory usage: 1017.6+ KB\n"
     ]
    }
   ],
   "source": [
    "df.info()"
   ]
  },
  {
   "cell_type": "code",
   "execution_count": 26,
   "id": "557065b2",
   "metadata": {},
   "outputs": [
    {
     "data": {
      "text/plain": [
       "text      0\n",
       "labels    0\n",
       "id        0\n",
       "dtype: int64"
      ]
     },
     "execution_count": 26,
     "metadata": {},
     "output_type": "execute_result"
    }
   ],
   "source": [
    "df.isnull().sum()"
   ]
  },
  {
   "cell_type": "code",
   "execution_count": null,
   "id": "467d8a4d",
   "metadata": {},
   "outputs": [
    {
     "name": "stdout",
     "output_type": "stream",
     "text": [
      "['admiration', 'amusement', 'anger', 'annoyance', 'approval', 'caring', 'confusion', 'curiosity', 'desire', 'disappointment', 'disapproval', 'disgust', 'embarrassment', 'excitement', 'fear', 'gratitude', 'grief', 'joy', 'love', 'nervousness', 'optimism', 'pride', 'realization', 'relief', 'remorse', 'sadness', 'surprise', 'neutral']\n"
     ]
    }
   ],
   "source": [
    "# this will only work if dataset i downloaded from huggingface with datasets library\n",
    "#label_list = ds.features[\"labels\"].feature.names   \n",
    "#print(label_list)"
   ]
  },
  {
   "cell_type": "code",
   "execution_count": 4,
   "id": "9dc54e77",
   "metadata": {},
   "outputs": [],
   "source": [
    "label_list = ['admiration', 'amusement', 'anger', 'annoyance', 'approval', 'caring', 'confusion', 'curiosity', 'desire', 'disappointment', 'disapproval', 'disgust', 'embarrassment', 'excitement', 'fear', 'gratitude', 'grief', 'joy', 'love', 'nervousness', 'optimism', 'pride', 'realization', 'relief', 'remorse', 'sadness', 'surprise', 'neutral']"
   ]
  },
  {
   "cell_type": "code",
   "execution_count": 54,
   "id": "81baa490",
   "metadata": {},
   "outputs": [],
   "source": [
    "# parse labels\n",
    "def parse_labels(x):\n",
    "    if isinstance(x, float) and pd.isna(x):\n",
    "        return []\n",
    "    x = x.strip(\"[]\")\n",
    "    return list(map(int, x.split()))\n",
    "\n",
    "df['labels'] = df['labels'].apply(parse_labels)"
   ]
  },
  {
   "cell_type": "code",
   "execution_count": 113,
   "id": "c96d2d05",
   "metadata": {},
   "outputs": [
    {
     "data": {
      "text/html": [
       "<div>\n",
       "<style scoped>\n",
       "    .dataframe tbody tr th:only-of-type {\n",
       "        vertical-align: middle;\n",
       "    }\n",
       "\n",
       "    .dataframe tbody tr th {\n",
       "        vertical-align: top;\n",
       "    }\n",
       "\n",
       "    .dataframe thead th {\n",
       "        text-align: right;\n",
       "    }\n",
       "</style>\n",
       "<table border=\"1\" class=\"dataframe\">\n",
       "  <thead>\n",
       "    <tr style=\"text-align: right;\">\n",
       "      <th></th>\n",
       "      <th>text</th>\n",
       "      <th>labels</th>\n",
       "      <th>id</th>\n",
       "    </tr>\n",
       "  </thead>\n",
       "  <tbody>\n",
       "    <tr>\n",
       "      <th>0</th>\n",
       "      <td>My favourite food is anything I didn't have to...</td>\n",
       "      <td>[27]</td>\n",
       "      <td>eebbqej</td>\n",
       "    </tr>\n",
       "    <tr>\n",
       "      <th>1</th>\n",
       "      <td>Now if he does off himself, everyone will thin...</td>\n",
       "      <td>[27]</td>\n",
       "      <td>ed00q6i</td>\n",
       "    </tr>\n",
       "    <tr>\n",
       "      <th>2</th>\n",
       "      <td>WHY THE FUCK IS BAYLESS ISOING</td>\n",
       "      <td>[2]</td>\n",
       "      <td>eezlygj</td>\n",
       "    </tr>\n",
       "    <tr>\n",
       "      <th>3</th>\n",
       "      <td>To make her feel threatened</td>\n",
       "      <td>[14]</td>\n",
       "      <td>ed7ypvh</td>\n",
       "    </tr>\n",
       "    <tr>\n",
       "      <th>4</th>\n",
       "      <td>Dirty Southern Wankers</td>\n",
       "      <td>[3]</td>\n",
       "      <td>ed0bdzj</td>\n",
       "    </tr>\n",
       "  </tbody>\n",
       "</table>\n",
       "</div>"
      ],
      "text/plain": [
       "                                                text labels       id\n",
       "0  My favourite food is anything I didn't have to...   [27]  eebbqej\n",
       "1  Now if he does off himself, everyone will thin...   [27]  ed00q6i\n",
       "2                     WHY THE FUCK IS BAYLESS ISOING    [2]  eezlygj\n",
       "3                        To make her feel threatened   [14]  ed7ypvh\n",
       "4                             Dirty Southern Wankers    [3]  ed0bdzj"
      ]
     },
     "execution_count": 113,
     "metadata": {},
     "output_type": "execute_result"
    }
   ],
   "source": [
    "df.head()"
   ]
  },
  {
   "cell_type": "code",
   "execution_count": 55,
   "id": "d28ece2d",
   "metadata": {},
   "outputs": [
    {
     "data": {
      "text/plain": [
       "list"
      ]
     },
     "execution_count": 55,
     "metadata": {},
     "output_type": "execute_result"
    }
   ],
   "source": [
    "type(df[\"labels\"].iloc[3])"
   ]
  },
  {
   "cell_type": "code",
   "execution_count": 37,
   "id": "ca4a0b17",
   "metadata": {},
   "outputs": [],
   "source": [
    "from collections import Counter\n",
    "\n",
    "all_labels = [label for sublist in df['labels'] for label in sublist]\n",
    "counts = Counter(all_labels)"
   ]
  },
  {
   "cell_type": "code",
   "execution_count": 38,
   "id": "451e588e",
   "metadata": {},
   "outputs": [
    {
     "name": "stdout",
     "output_type": "stream",
     "text": [
      "neutral 14219\n",
      "anger 1567\n",
      "fear 596\n",
      "annoyance 2470\n",
      "surprise 1060\n",
      "gratitude 2662\n",
      "desire 641\n",
      "optimism 1581\n",
      "admiration 4130\n",
      "confusion 1368\n",
      "amusement 2328\n",
      "approval 2939\n",
      "caring 1087\n",
      "embarrassment 303\n",
      "realization 1110\n",
      "disappointment 1269\n",
      "grief 77\n",
      "sadness 1326\n",
      "curiosity 2191\n",
      "joy 1452\n",
      "love 2086\n",
      "excitement 853\n",
      "disapproval 2022\n",
      "remorse 545\n",
      "disgust 793\n",
      "relief 153\n",
      "pride 111\n",
      "nervousness 164\n"
     ]
    }
   ],
   "source": [
    "for idx, c in counts.items():\n",
    "    print(label_list[idx],c)"
   ]
  },
  {
   "cell_type": "code",
   "execution_count": 116,
   "id": "334cf7a0",
   "metadata": {},
   "outputs": [],
   "source": [
    "num_classes = len(label_list)\n",
    "co_matrix = np.zeros((num_classes, num_classes), dtype=int)\n",
    "\n",
    "for labels in df['labels']:\n",
    "    for i in labels:\n",
    "        for j in labels:\n",
    "            if i != j:\n",
    "                co_matrix[i,j] += 1\n",
    "\n",
    "co_df = pd.DataFrame(co_matrix, index=label_list, columns=label_list)"
   ]
  },
  {
   "cell_type": "code",
   "execution_count": null,
   "id": "e56f2fa3",
   "metadata": {},
   "outputs": [
    {
     "data": {
      "image/png": "[encoded data removed]",
      "text/plain": [
       "<Figure size 1500x1000 with 2 Axes>"
      ]
     },
     "metadata": {},
     "output_type": "display_data"
    }
   ],
   "source": [
    "import seaborn as sns\n",
    "import matplotlib.pyplot as plt\n",
    "\n",
    "plt.figure(figsize=(15, 10))\n",
    "sns.heatmap(co_df, cmap='magma', square=True, cbar=True, xticklabels=True, yticklabels=True)\n",
    "plt.show()"
   ]
  },
  {
   "cell_type": "code",
   "execution_count": 39,
   "id": "3b146987",
   "metadata": {},
   "outputs": [],
   "source": [
    "df['num_words'] = df['text'].apply(lambda x: len(x.split(\" \")))"
   ]
  },
  {
   "cell_type": "code",
   "execution_count": 40,
   "id": "cd44bacc",
   "metadata": {},
   "outputs": [
    {
     "data": {
      "text/html": [
       "<div>\n",
       "<style scoped>\n",
       "    .dataframe tbody tr th:only-of-type {\n",
       "        vertical-align: middle;\n",
       "    }\n",
       "\n",
       "    .dataframe tbody tr th {\n",
       "        vertical-align: top;\n",
       "    }\n",
       "\n",
       "    .dataframe thead th {\n",
       "        text-align: right;\n",
       "    }\n",
       "</style>\n",
       "<table border=\"1\" class=\"dataframe\">\n",
       "  <thead>\n",
       "    <tr style=\"text-align: right;\">\n",
       "      <th></th>\n",
       "      <th>text</th>\n",
       "      <th>labels</th>\n",
       "      <th>id</th>\n",
       "      <th>num_words</th>\n",
       "    </tr>\n",
       "  </thead>\n",
       "  <tbody>\n",
       "    <tr>\n",
       "      <th>0</th>\n",
       "      <td>My favourite food is anything I didn't have to...</td>\n",
       "      <td>[27]</td>\n",
       "      <td>eebbqej</td>\n",
       "      <td>11</td>\n",
       "    </tr>\n",
       "    <tr>\n",
       "      <th>1</th>\n",
       "      <td>Now if he does off himself, everyone will thin...</td>\n",
       "      <td>[27]</td>\n",
       "      <td>ed00q6i</td>\n",
       "      <td>20</td>\n",
       "    </tr>\n",
       "    <tr>\n",
       "      <th>2</th>\n",
       "      <td>WHY THE FUCK IS BAYLESS ISOING</td>\n",
       "      <td>[2]</td>\n",
       "      <td>eezlygj</td>\n",
       "      <td>6</td>\n",
       "    </tr>\n",
       "    <tr>\n",
       "      <th>3</th>\n",
       "      <td>To make her feel threatened</td>\n",
       "      <td>[14]</td>\n",
       "      <td>ed7ypvh</td>\n",
       "      <td>5</td>\n",
       "    </tr>\n",
       "    <tr>\n",
       "      <th>4</th>\n",
       "      <td>Dirty Southern Wankers</td>\n",
       "      <td>[3]</td>\n",
       "      <td>ed0bdzj</td>\n",
       "      <td>3</td>\n",
       "    </tr>\n",
       "  </tbody>\n",
       "</table>\n",
       "</div>"
      ],
      "text/plain": [
       "                                                text labels       id  \\\n",
       "0  My favourite food is anything I didn't have to...   [27]  eebbqej   \n",
       "1  Now if he does off himself, everyone will thin...   [27]  ed00q6i   \n",
       "2                     WHY THE FUCK IS BAYLESS ISOING    [2]  eezlygj   \n",
       "3                        To make her feel threatened   [14]  ed7ypvh   \n",
       "4                             Dirty Southern Wankers    [3]  ed0bdzj   \n",
       "\n",
       "   num_words  \n",
       "0         11  \n",
       "1         20  \n",
       "2          6  \n",
       "3          5  \n",
       "4          3  "
      ]
     },
     "execution_count": 40,
     "metadata": {},
     "output_type": "execute_result"
    }
   ],
   "source": [
    "df.head()"
   ]
  },
  {
   "cell_type": "code",
   "execution_count": 41,
   "id": "3a18085a",
   "metadata": {},
   "outputs": [
    {
     "data": {
      "text/plain": [
       "count    43410.000000\n",
       "mean        12.903525\n",
       "std          6.733289\n",
       "min          1.000000\n",
       "25%          7.000000\n",
       "50%         12.000000\n",
       "75%         18.000000\n",
       "max         33.000000\n",
       "Name: num_words, dtype: float64"
      ]
     },
     "execution_count": 41,
     "metadata": {},
     "output_type": "execute_result"
    }
   ],
   "source": [
    "df['num_words'].describe()"
   ]
  },
  {
   "cell_type": "code",
   "execution_count": 42,
   "id": "bb6f873b",
   "metadata": {},
   "outputs": [],
   "source": [
    "rare_threshold = 1000\n",
    "rare_labels = [label for label, count in counts.items() if count < rare_threshold]"
   ]
  },
  {
   "cell_type": "code",
   "execution_count": 43,
   "id": "d62e64ac",
   "metadata": {},
   "outputs": [
    {
     "data": {
      "text/plain": [
       "[14, 8, 12, 16, 13, 24, 11, 23, 21, 19]"
      ]
     },
     "execution_count": 43,
     "metadata": {},
     "output_type": "execute_result"
    }
   ],
   "source": [
    "rare_labels"
   ]
  },
  {
   "cell_type": "code",
   "execution_count": 44,
   "metadata": {},
   "outputs": [
    {
     "data": {
      "text/plain": [
       "[0, 1, 2, 3, 4, 5, 6, 7, 9, 10, 15, 17, 18, 20, 22, 25, 26, 27]"
      ]
     },
     "execution_count": 44,
     "metadata": {},
     "output_type": "execute_result"
    }
   ],
   "source": [
    "common_labels = [label for label in range(len(label_list)) if label not in rare_labels]\n",
    "common_labels"
   ]
  },
  {
   "cell_type": "code",
   "execution_count": 45,
   "id": "025ffbaa",
   "metadata": {},
   "outputs": [
    {
     "data": {
      "text/plain": [
       "list"
      ]
     },
     "execution_count": 45,
     "metadata": {},
     "output_type": "execute_result"
    }
   ],
   "source": [
    "type(df['labels'].loc[3])"
   ]
  },
  {
   "cell_type": "code",
   "execution_count": 48,
   "id": "684879ed",
   "metadata": {},
   "outputs": [],
   "source": [
    "rare_idx = df[df['labels'].apply(lambda x: any(l in rare_labels for l in x))].index\n",
    "df_rare = df.loc[rare_idx].copy()"
   ]
  },
  {
   "cell_type": "code",
   "execution_count": 49,
   "id": "13b0e35c",
   "metadata": {},
   "outputs": [
    {
     "data": {
      "text/plain": [
       "(4132, 4)"
      ]
     },
     "execution_count": 49,
     "metadata": {},
     "output_type": "execute_result"
    }
   ],
   "source": [
    "df_rare.shape"
   ]
  },
  {
   "cell_type": "code",
   "execution_count": 50,
   "id": "52563530",
   "metadata": {},
   "outputs": [
    {
     "name": "stdout",
     "output_type": "stream",
     "text": [
      "fear 596\n",
      "desire 641\n",
      "optimism 140\n",
      "annoyance 132\n",
      "embarrassment 303\n",
      "grief 77\n",
      "sadness 137\n",
      "neutral 135\n",
      "curiosity 81\n",
      "excitement 853\n",
      "gratitude 81\n",
      "admiration 170\n",
      "remorse 545\n",
      "joy 115\n",
      "disgust 793\n",
      "love 69\n",
      "relief 153\n",
      "approval 92\n",
      "pride 111\n",
      "disapproval 65\n",
      "surprise 57\n",
      "nervousness 164\n",
      "anger 74\n",
      "realization 58\n",
      "disappointment 76\n",
      "amusement 58\n",
      "caring 49\n",
      "confusion 27\n"
     ]
    }
   ],
   "source": [
    "all_rare_labels = [l for sublist in df_rare['labels'] for l in sublist]\n",
    "count_rare = Counter(all_rare_labels)\n",
    "for idx, c in count_rare.items():\n",
    "    print(label_list[idx],c)"
   ]
  },
  {
   "cell_type": "code",
   "execution_count": null,
   "id": "1eee313e",
   "metadata": {},
   "outputs": [
    {
     "data": {
      "text/plain": [
       "count    4132.000000\n",
       "mean       13.263069\n",
       "std         6.600893\n",
       "min         1.000000\n",
       "25%         8.000000\n",
       "50%        13.000000\n",
       "75%        18.000000\n",
       "max        30.000000\n",
       "Name: mum_words, dtype: float64"
      ]
     },
     "execution_count": 143,
     "metadata": {},
     "output_type": "execute_result"
    }
   ],
   "source": [
    "df_rare['num_words'].describe()"
   ]
  },
  {
   "cell_type": "code",
   "execution_count": null,
   "id": "c56a81cb",
   "metadata": {},
   "outputs": [],
   "source": [
    "df_rare.drop(columns=['id', 'num_words'], inplace=True)\n",
    "df_rare.to_csv(\"go_emotions_rare.csv\", index=False)"
   ]
  },
  {
   "cell_type": "markdown",
   "id": "8381c246",
   "metadata": {},
   "source": [
    "# REPORT \n",
    "### Preprocessing steps needed before starting of finetuning:\n",
    "1. Needs lower casing.\n",
    "2. Contains emojis! \n",
    "3. Names of persons, users are represented as [NAME], [USER], etc..\n",
    "\n",
    "### Attention Required :\n",
    "Extreme Rare Labels-\n",
    "1. grief 77\n",
    "2. pride 111\n",
    "3. relief 153\n",
    "4. nervousness 164\n",
    "5. embaressment 303\n",
    "6. fear 596\n",
    "7. desire 641\n",
    "8. disgust 793\n",
    "\n",
    "The rare labels counts needs to be increased - data collection for these labels is required. \n",
    "\n",
    "Rare labels occuring together in the data:\n",
    "1. fear and nervousness, fear and disgust\n",
    "2. desire and optimism, desire and love, desire and admiration\n",
    "3. grief and sadness\n",
    "4. remorse and sadness, remorse and disappontment,\n",
    "5. relief and gratitude, relief and joy\n",
    "6. disgust and annoyance, disgust and anger, disgust and approval\n",
    "7. pride and admiration, pride and optimism\n",
    "8. embaressment and sadness, embarassment and realization\n",
    "\n",
    "In all_rare_labels shown above some extra columns like 'sadness' has comeup although they have many samples because the labels have multiple categories and so 'sadness' comes up with 'grief' togther. Hence columns like sadness, neutral are there.\n",
    "\n",
    "### Actions\n",
    "Generate rare labels data from GPT/Gemini/Claude : \\\n",
    "PROMPT - \"Generate Reddit/Twitter style comments expressing grief and sadness about some real life incidents or scenarios. Keep it informal, use internet slangs and optionally add emojis. Maximum 20 words allowed and a minimum of 5 words to be present in the comments. Focus on making it realistic as if a real user wrote.\""
   ]
  },
  {
   "cell_type": "code",
   "execution_count": null,
   "id": "86bb85f7",
   "metadata": {},
   "outputs": [],
   "source": []
  },
  {
   "cell_type": "markdown",
   "id": "fe76f610",
   "metadata": {},
   "source": [
    "### Labels List (Numeric Representation in the Dataset) : :\n",
    "\n",
    "admiration - 0 \\\n",
    "amusement - 1 \\\n",
    "anger - 2 \\\n",
    "annoyance  - 3 \n",
    "\n",
    "approval - 4 \\\n",
    "caring - 5 \\\n",
    "confusion - 6 \\\n",
    "curiosity - 7 \\\n",
    "desire - 8 \\\n",
    "disappointment - 9 \\\n",
    "disapproval - 10 \\\n",
    "disgust - 11 \\\n",
    "embarrassment - 12 \\\n",
    "excitement - 13 \\\n",
    "fear - 14 \\\n",
    "gratitude - 15 \\\n",
    "grief - 16 \\\n",
    "joy - 17 \\\n",
    "love - 18 \\\n",
    "nervousness - 19 \\\n",
    "optimism - 20 \\\n",
    "pride - 21 \\\n",
    "realization - 22 \\\n",
    "relief - 23 \\\n",
    "remorse - 24 \\\n",
    "sadness - 25 \\\n",
    "surprise - 26 \\\n",
    "neutral - 27 "
   ]
  },
  {
   "cell_type": "code",
   "execution_count": null,
   "id": "5239a257",
   "metadata": {},
   "outputs": [],
   "source": []
  },
  {
   "cell_type": "code",
   "execution_count": 1,
   "id": "d45d957c",
   "metadata": {},
   "outputs": [],
   "source": [
    "import pandas as pd\n",
    "df_rare = pd.read_csv(\"go_emotions_rare.csv\")"
   ]
  },
  {
   "cell_type": "code",
   "execution_count": 2,
   "id": "5511fd46",
   "metadata": {},
   "outputs": [],
   "source": [
    "# parse labels\n",
    "def parse_labels(x):\n",
    "    if isinstance(x, float) and pd.isna(x):\n",
    "        return []\n",
    "    x = x.strip(\"[]\")\n",
    "    # Split by comma, then strip spaces and filter out empty strings\n",
    "    return [int(label.strip()) for label in x.split(\",\") if label.strip()]\n",
    "\n",
    "df_rare['labels'] = df_rare['labels'].apply(parse_labels)"
   ]
  },
  {
   "cell_type": "code",
   "execution_count": 5,
   "id": "2e0b816f",
   "metadata": {},
   "outputs": [
    {
     "name": "stdout",
     "output_type": "stream",
     "text": [
      "fear 660\n",
      "desire 642\n",
      "optimism 140\n",
      "annoyance 136\n",
      "embarrassment 303\n",
      "grief 304\n",
      "sadness 243\n",
      "neutral 140\n",
      "curiosity 81\n",
      "excitement 855\n",
      "gratitude 91\n",
      "admiration 170\n",
      "remorse 545\n",
      "joy 165\n",
      "disgust 812\n",
      "love 69\n",
      "relief 244\n",
      "approval 99\n",
      "pride 111\n",
      "disapproval 65\n",
      "surprise 57\n",
      "nervousness 264\n",
      "anger 74\n",
      "realization 58\n",
      "disappointment 78\n",
      "amusement 58\n",
      "caring 76\n",
      "confusion 33\n"
     ]
    }
   ],
   "source": [
    "from collections import Counter\n",
    "all_rare_labels = [l for sublist in df_rare['labels'] for l in sublist]\n",
    "count_rare = Counter(all_rare_labels)\n",
    "for idx, c in count_rare.items():\n",
    "    print(label_list[idx],c)"
   ]
  },
  {
   "cell_type": "markdown",
   "id": "bbba6c11",
   "metadata": {},
   "source": [
    "# EMO PILLAR CONTEXT-LESS"
   ]
  },
  {
   "cell_type": "code",
   "execution_count": 1,
   "id": "ba70045b",
   "metadata": {},
   "outputs": [],
   "source": [
    "import pandas as pd\n",
    "\n",
    "emo_data = pd.read_json(\"data/emo_pillar_context_less_train.jsonl\", lines=True)"
   ]
  },
  {
   "cell_type": "code",
   "execution_count": 2,
   "id": "de5e75f5",
   "metadata": {},
   "outputs": [
    {
     "data": {
      "text/html": [
       "<div>\n",
       "<style scoped>\n",
       "    .dataframe tbody tr th:only-of-type {\n",
       "        vertical-align: middle;\n",
       "    }\n",
       "\n",
       "    .dataframe tbody tr th {\n",
       "        vertical-align: top;\n",
       "    }\n",
       "\n",
       "    .dataframe thead th {\n",
       "        text-align: right;\n",
       "    }\n",
       "</style>\n",
       "<table border=\"1\" class=\"dataframe\">\n",
       "  <thead>\n",
       "    <tr style=\"text-align: right;\">\n",
       "      <th></th>\n",
       "      <th>plot_id</th>\n",
       "      <th>utterance</th>\n",
       "      <th>labels</th>\n",
       "      <th>expressiveness</th>\n",
       "      <th>primary_emotion</th>\n",
       "      <th>all_emotions</th>\n",
       "      <th>all_emotions_mapped</th>\n",
       "      <th>emotions_used_to_generate_context</th>\n",
       "      <th>raw_emotion_explication</th>\n",
       "    </tr>\n",
       "  </thead>\n",
       "  <tbody>\n",
       "    <tr>\n",
       "      <th>0</th>\n",
       "      <td>356</td>\n",
       "      <td>He's right. We have become heartless. We need ...</td>\n",
       "      <td>[22, 25, 24, 2]</td>\n",
       "      <td>[1.0, 0.8, 0.9, 0.4]</td>\n",
       "      <td>realization</td>\n",
       "      <td>[[realization, 1.0], [sadness, 0.8], [compassi...</td>\n",
       "      <td>[[realization, 1.0], [sadness, 0.8], [remorse,...</td>\n",
       "      <td>[realization, sadness, remorse, anger]</td>\n",
       "      <td>1. realization: 1.0\\n2. sadness: 0.8\\n3. compa...</td>\n",
       "    </tr>\n",
       "    <tr>\n",
       "      <th>1</th>\n",
       "      <td>9</td>\n",
       "      <td>I need to think carefully about my next move.</td>\n",
       "      <td>[27]</td>\n",
       "      <td>[0.8]</td>\n",
       "      <td>neutral</td>\n",
       "      <td>[[neutral, 0.8], [nervousness, 0.2], [confusio...</td>\n",
       "      <td>[[neutral, 0.8], [nervousness, 0.2], [confusio...</td>\n",
       "      <td>[neutral]</td>\n",
       "      <td>1. neutral: 0.8\\n2. nervousness: 0.2\\n3. confu...</td>\n",
       "    </tr>\n",
       "    <tr>\n",
       "      <th>2</th>\n",
       "      <td>20</td>\n",
       "      <td>The filter is almost ready, we just need to fi...</td>\n",
       "      <td>[27, 13]</td>\n",
       "      <td>[0.5, 0.30000000000000004]</td>\n",
       "      <td>neutral</td>\n",
       "      <td>[[neutral, 0.5], [excitement, 0.30000000000000...</td>\n",
       "      <td>[[neutral, 0.5], [excitement, 0.30000000000000...</td>\n",
       "      <td>[neutral, excitement]</td>\n",
       "      <td>1. neutral: 0.5\\n2. excitement: 0.3\\n3. antici...</td>\n",
       "    </tr>\n",
       "    <tr>\n",
       "      <th>3</th>\n",
       "      <td>5</td>\n",
       "      <td>What's going on? Why are we retreating? We wer...</td>\n",
       "      <td>[6, 3, 9, 2, 19]</td>\n",
       "      <td>[1.0, 0.8, 0.9, 0.6000000000000001, 0.5]</td>\n",
       "      <td>confusion</td>\n",
       "      <td>[[confusion, 1.0], [frustration, 0.8], [disapp...</td>\n",
       "      <td>[[confusion, 1.0], [annoyance, 0.8], [disappoi...</td>\n",
       "      <td>[confusion, annoyance, disappointment, anger, ...</td>\n",
       "      <td>1. confusion: 1.0\\n2. frustration: 0.8\\n3. dis...</td>\n",
       "    </tr>\n",
       "    <tr>\n",
       "      <th>4</th>\n",
       "      <td>92</td>\n",
       "      <td>I hope we can make it back to the Protector in...</td>\n",
       "      <td>[8, 20]</td>\n",
       "      <td>[1.0, 0.9]</td>\n",
       "      <td>desire</td>\n",
       "      <td>[[desire, 1.0], [hope, 0.9], [fear, 0.1], [exc...</td>\n",
       "      <td>[[desire, 1.0], [optimism, 0.9], [fear, 0.1], ...</td>\n",
       "      <td>[desire, optimism]</td>\n",
       "      <td>1. desire: 1.0\\n2. hope: 0.9\\n3. fear: 0.1 (lo...</td>\n",
       "    </tr>\n",
       "  </tbody>\n",
       "</table>\n",
       "</div>"
      ],
      "text/plain": [
       "   plot_id                                          utterance  \\\n",
       "0      356  He's right. We have become heartless. We need ...   \n",
       "1        9      I need to think carefully about my next move.   \n",
       "2       20  The filter is almost ready, we just need to fi...   \n",
       "3        5  What's going on? Why are we retreating? We wer...   \n",
       "4       92  I hope we can make it back to the Protector in...   \n",
       "\n",
       "             labels                            expressiveness primary_emotion  \\\n",
       "0   [22, 25, 24, 2]                      [1.0, 0.8, 0.9, 0.4]     realization   \n",
       "1              [27]                                     [0.8]         neutral   \n",
       "2          [27, 13]                [0.5, 0.30000000000000004]         neutral   \n",
       "3  [6, 3, 9, 2, 19]  [1.0, 0.8, 0.9, 0.6000000000000001, 0.5]       confusion   \n",
       "4           [8, 20]                                [1.0, 0.9]          desire   \n",
       "\n",
       "                                        all_emotions  \\\n",
       "0  [[realization, 1.0], [sadness, 0.8], [compassi...   \n",
       "1  [[neutral, 0.8], [nervousness, 0.2], [confusio...   \n",
       "2  [[neutral, 0.5], [excitement, 0.30000000000000...   \n",
       "3  [[confusion, 1.0], [frustration, 0.8], [disapp...   \n",
       "4  [[desire, 1.0], [hope, 0.9], [fear, 0.1], [exc...   \n",
       "\n",
       "                                 all_emotions_mapped  \\\n",
       "0  [[realization, 1.0], [sadness, 0.8], [remorse,...   \n",
       "1  [[neutral, 0.8], [nervousness, 0.2], [confusio...   \n",
       "2  [[neutral, 0.5], [excitement, 0.30000000000000...   \n",
       "3  [[confusion, 1.0], [annoyance, 0.8], [disappoi...   \n",
       "4  [[desire, 1.0], [optimism, 0.9], [fear, 0.1], ...   \n",
       "\n",
       "                   emotions_used_to_generate_context  \\\n",
       "0             [realization, sadness, remorse, anger]   \n",
       "1                                          [neutral]   \n",
       "2                              [neutral, excitement]   \n",
       "3  [confusion, annoyance, disappointment, anger, ...   \n",
       "4                                 [desire, optimism]   \n",
       "\n",
       "                             raw_emotion_explication  \n",
       "0  1. realization: 1.0\\n2. sadness: 0.8\\n3. compa...  \n",
       "1  1. neutral: 0.8\\n2. nervousness: 0.2\\n3. confu...  \n",
       "2  1. neutral: 0.5\\n2. excitement: 0.3\\n3. antici...  \n",
       "3  1. confusion: 1.0\\n2. frustration: 0.8\\n3. dis...  \n",
       "4  1. desire: 1.0\\n2. hope: 0.9\\n3. fear: 0.1 (lo...  "
      ]
     },
     "execution_count": 2,
     "metadata": {},
     "output_type": "execute_result"
    }
   ],
   "source": [
    "emo_data.head()"
   ]
  },
  {
   "cell_type": "code",
   "execution_count": 10,
   "id": "5ec2d94c",
   "metadata": {},
   "outputs": [],
   "source": [
    "x = emo_data['emotions_used_to_generate_context'].loc[0]"
   ]
  },
  {
   "cell_type": "code",
   "execution_count": 12,
   "id": "4e08d8e0",
   "metadata": {},
   "outputs": [
    {
     "data": {
      "text/plain": [
       "np.int64(0)"
      ]
     },
     "execution_count": 12,
     "metadata": {},
     "output_type": "execute_result"
    }
   ],
   "source": [
    "emo_data[\"utterance\"].isnull().sum()\n"
   ]
  },
  {
   "cell_type": "code",
   "execution_count": 10,
   "id": "5512286e",
   "metadata": {},
   "outputs": [
    {
     "data": {
      "text/html": [
       "<div>\n",
       "<style scoped>\n",
       "    .dataframe tbody tr th:only-of-type {\n",
       "        vertical-align: middle;\n",
       "    }\n",
       "\n",
       "    .dataframe tbody tr th {\n",
       "        vertical-align: top;\n",
       "    }\n",
       "\n",
       "    .dataframe thead th {\n",
       "        text-align: right;\n",
       "    }\n",
       "</style>\n",
       "<table border=\"1\" class=\"dataframe\">\n",
       "  <thead>\n",
       "    <tr style=\"text-align: right;\">\n",
       "      <th></th>\n",
       "      <th>plot_id</th>\n",
       "      <th>utterance</th>\n",
       "      <th>labels</th>\n",
       "      <th>expressiveness</th>\n",
       "      <th>primary_emotion</th>\n",
       "      <th>all_emotions</th>\n",
       "      <th>all_emotions_mapped</th>\n",
       "      <th>emotions_used_to_generate_context</th>\n",
       "      <th>raw_emotion_explication</th>\n",
       "    </tr>\n",
       "  </thead>\n",
       "  <tbody>\n",
       "    <tr>\n",
       "      <th>0</th>\n",
       "      <td>356</td>\n",
       "      <td>He's right. We have become heartless. We need ...</td>\n",
       "      <td>[22, 25, 24, 2]</td>\n",
       "      <td>[1.0, 0.8, 0.9, 0.4]</td>\n",
       "      <td>realization</td>\n",
       "      <td>[[realization, 1.0], [sadness, 0.8], [compassi...</td>\n",
       "      <td>[[realization, 1.0], [sadness, 0.8], [remorse,...</td>\n",
       "      <td>[realization, sadness, remorse, anger]</td>\n",
       "      <td>1. realization: 1.0\\n2. sadness: 0.8\\n3. compa...</td>\n",
       "    </tr>\n",
       "    <tr>\n",
       "      <th>1</th>\n",
       "      <td>9</td>\n",
       "      <td>I need to think carefully about my next move.</td>\n",
       "      <td>[27]</td>\n",
       "      <td>[0.8]</td>\n",
       "      <td>neutral</td>\n",
       "      <td>[[neutral, 0.8], [nervousness, 0.2], [confusio...</td>\n",
       "      <td>[[neutral, 0.8], [nervousness, 0.2], [confusio...</td>\n",
       "      <td>[neutral]</td>\n",
       "      <td>1. neutral: 0.8\\n2. nervousness: 0.2\\n3. confu...</td>\n",
       "    </tr>\n",
       "    <tr>\n",
       "      <th>2</th>\n",
       "      <td>20</td>\n",
       "      <td>The filter is almost ready, we just need to fi...</td>\n",
       "      <td>[27, 13]</td>\n",
       "      <td>[0.5, 0.30000000000000004]</td>\n",
       "      <td>neutral</td>\n",
       "      <td>[[neutral, 0.5], [excitement, 0.30000000000000...</td>\n",
       "      <td>[[neutral, 0.5], [excitement, 0.30000000000000...</td>\n",
       "      <td>[neutral, excitement]</td>\n",
       "      <td>1. neutral: 0.5\\n2. excitement: 0.3\\n3. antici...</td>\n",
       "    </tr>\n",
       "    <tr>\n",
       "      <th>3</th>\n",
       "      <td>5</td>\n",
       "      <td>What's going on? Why are we retreating? We wer...</td>\n",
       "      <td>[6, 3, 9, 2, 19]</td>\n",
       "      <td>[1.0, 0.8, 0.9, 0.6000000000000001, 0.5]</td>\n",
       "      <td>confusion</td>\n",
       "      <td>[[confusion, 1.0], [frustration, 0.8], [disapp...</td>\n",
       "      <td>[[confusion, 1.0], [annoyance, 0.8], [disappoi...</td>\n",
       "      <td>[confusion, annoyance, disappointment, anger, ...</td>\n",
       "      <td>1. confusion: 1.0\\n2. frustration: 0.8\\n3. dis...</td>\n",
       "    </tr>\n",
       "    <tr>\n",
       "      <th>4</th>\n",
       "      <td>92</td>\n",
       "      <td>I hope we can make it back to the Protector in...</td>\n",
       "      <td>[8, 20]</td>\n",
       "      <td>[1.0, 0.9]</td>\n",
       "      <td>desire</td>\n",
       "      <td>[[desire, 1.0], [hope, 0.9], [fear, 0.1], [exc...</td>\n",
       "      <td>[[desire, 1.0], [optimism, 0.9], [fear, 0.1], ...</td>\n",
       "      <td>[desire, optimism]</td>\n",
       "      <td>1. desire: 1.0\\n2. hope: 0.9\\n3. fear: 0.1 (lo...</td>\n",
       "    </tr>\n",
       "  </tbody>\n",
       "</table>\n",
       "</div>"
      ],
      "text/plain": [
       "   plot_id                                          utterance  \\\n",
       "0      356  He's right. We have become heartless. We need ...   \n",
       "1        9      I need to think carefully about my next move.   \n",
       "2       20  The filter is almost ready, we just need to fi...   \n",
       "3        5  What's going on? Why are we retreating? We wer...   \n",
       "4       92  I hope we can make it back to the Protector in...   \n",
       "\n",
       "             labels                            expressiveness primary_emotion  \\\n",
       "0   [22, 25, 24, 2]                      [1.0, 0.8, 0.9, 0.4]     realization   \n",
       "1              [27]                                     [0.8]         neutral   \n",
       "2          [27, 13]                [0.5, 0.30000000000000004]         neutral   \n",
       "3  [6, 3, 9, 2, 19]  [1.0, 0.8, 0.9, 0.6000000000000001, 0.5]       confusion   \n",
       "4           [8, 20]                                [1.0, 0.9]          desire   \n",
       "\n",
       "                                        all_emotions  \\\n",
       "0  [[realization, 1.0], [sadness, 0.8], [compassi...   \n",
       "1  [[neutral, 0.8], [nervousness, 0.2], [confusio...   \n",
       "2  [[neutral, 0.5], [excitement, 0.30000000000000...   \n",
       "3  [[confusion, 1.0], [frustration, 0.8], [disapp...   \n",
       "4  [[desire, 1.0], [hope, 0.9], [fear, 0.1], [exc...   \n",
       "\n",
       "                                 all_emotions_mapped  \\\n",
       "0  [[realization, 1.0], [sadness, 0.8], [remorse,...   \n",
       "1  [[neutral, 0.8], [nervousness, 0.2], [confusio...   \n",
       "2  [[neutral, 0.5], [excitement, 0.30000000000000...   \n",
       "3  [[confusion, 1.0], [annoyance, 0.8], [disappoi...   \n",
       "4  [[desire, 1.0], [optimism, 0.9], [fear, 0.1], ...   \n",
       "\n",
       "                   emotions_used_to_generate_context  \\\n",
       "0             [realization, sadness, remorse, anger]   \n",
       "1                                          [neutral]   \n",
       "2                              [neutral, excitement]   \n",
       "3  [confusion, annoyance, disappointment, anger, ...   \n",
       "4                                 [desire, optimism]   \n",
       "\n",
       "                             raw_emotion_explication  \n",
       "0  1. realization: 1.0\\n2. sadness: 0.8\\n3. compa...  \n",
       "1  1. neutral: 0.8\\n2. nervousness: 0.2\\n3. confu...  \n",
       "2  1. neutral: 0.5\\n2. excitement: 0.3\\n3. antici...  \n",
       "3  1. confusion: 1.0\\n2. frustration: 0.8\\n3. dis...  \n",
       "4  1. desire: 1.0\\n2. hope: 0.9\\n3. fear: 0.1 (lo...  "
      ]
     },
     "execution_count": 10,
     "metadata": {},
     "output_type": "execute_result"
    }
   ],
   "source": [
    "emo_data.head(5)"
   ]
  },
  {
   "cell_type": "code",
   "execution_count": 15,
   "id": "474c5939",
   "metadata": {},
   "outputs": [],
   "source": [
    "emo_data[\"utterance_len\"] = emo_data[\"utterance\"].apply(lambda x: len(x.split(\" \")))"
   ]
  },
  {
   "cell_type": "code",
   "execution_count": 19,
   "id": "9b0abd76",
   "metadata": {},
   "outputs": [],
   "source": [
    "m = emo_data[\"utterance_len\"].to_list()"
   ]
  },
  {
   "cell_type": "code",
   "execution_count": 21,
   "id": "afe404f0",
   "metadata": {},
   "outputs": [
    {
     "data": {
      "text/plain": [
       "39"
      ]
     },
     "execution_count": 21,
     "metadata": {},
     "output_type": "execute_result"
    }
   ],
   "source": [
    "max(m)"
   ]
  },
  {
   "cell_type": "code",
   "execution_count": 18,
   "id": "a703eccb",
   "metadata": {},
   "outputs": [
    {
     "data": {
      "text/plain": [
       "'I need to think carefully about my next move.'"
      ]
     },
     "execution_count": 18,
     "metadata": {},
     "output_type": "execute_result"
    }
   ],
   "source": [
    "emo_data[\"utterance\"].loc[1]"
   ]
  },
  {
   "cell_type": "code",
   "execution_count": null,
   "id": "fcc8e035",
   "metadata": {},
   "outputs": [
    {
     "data": {
      "text/plain": [
       "[['realization', 1.0],\n",
       " ['sadness', 0.8],\n",
       " ['remorse', 0.6000000000000001],\n",
       " ['anger', 0.4],\n",
       " ['remorse', 0.9]]"
      ]
     },
     "execution_count": 9,
     "metadata": {},
     "output_type": "execute_result"
    }
   ],
   "source": [
    "emo_data[\"all_emotions_mapped\"].loc[0]"
   ]
  },
  {
   "cell_type": "code",
   "execution_count": 11,
   "id": "843949c2",
   "metadata": {},
   "outputs": [
    {
     "data": {
      "text/plain": [
       "(14052, 9)"
      ]
     },
     "execution_count": 11,
     "metadata": {},
     "output_type": "execute_result"
    }
   ],
   "source": [
    "emo_data.shape"
   ]
  },
  {
   "cell_type": "code",
   "execution_count": null,
   "id": "c80f6f0f",
   "metadata": {},
   "outputs": [],
   "source": []
  }
 ],
 "metadata": {
  "kernelspec": {
   "display_name": "Python 3",
   "language": "python",
   "name": "python3"
  },
  "language_info": {
   "codemirror_mode": {
    "name": "ipython",
    "version": 3
   },
   "file_extension": ".py",
   "mimetype": "text/x-python",
   "name": "python",
   "nbconvert_exporter": "python",
   "pygments_lexer": "ipython3",
   "version": "3.11.5"
  }
 },
 "nbformat": 4,
 "nbformat_minor": 5
}
