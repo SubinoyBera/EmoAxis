{
 "cells": [
  {
   "cell_type": "code",
   "execution_count": 51,
   "id": "0f49b4e1",
   "metadata": {},
   "outputs": [],
   "source": [
    "from transformers import AutoTokenizer, AutoModelForSequenceClassification\n",
    "\n",
    "#model_path = \"C:\\\\Users\\\\subin\\\\.cache\\\\huggingface\\\\hub\\\\models--SamLowe--roberta-base-go_emotions\\\\snapshots\\\\roberta-goemo\"\n",
    "model_path = \"C:\\\\Users\\\\subin\\\\.cache\\\\huggingface\\\\hub\\\\models--roberta-base\\\\snapshots\\\\roberta-base\""
   ]
  },
  {
   "cell_type": "code",
   "execution_count": 52,
   "id": "207ef52f",
   "metadata": {},
   "outputs": [
    {
     "name": "stderr",
     "output_type": "stream",
     "text": [
      "Some weights of RobertaForSequenceClassification were not initialized from the model checkpoint at C:\\Users\\subin\\.cache\\huggingface\\hub\\models--roberta-base\\snapshots\\roberta-base and are newly initialized: ['classifier.dense.bias', 'classifier.dense.weight', 'classifier.out_proj.bias', 'classifier.out_proj.weight']\n",
      "You should probably TRAIN this model on a down-stream task to be able to use it for predictions and inference.\n"
     ]
    }
   ],
   "source": [
    "import torch\n",
    "\n",
    "tokenizer = AutoTokenizer.from_pretrained(model_path)\n",
    "model = AutoModelForSequenceClassification.from_pretrained(model_path)\n",
    "\n",
    "def get_embedding(text):\n",
    "    inputs = tokenizer(text, return_tensors=\"pt\")\n",
    "    with torch.no_grad():\n",
    "        outputs = model(**inputs, output_hidden_states=True)\n",
    "        last_hidden_state = outputs.hidden_states[-1]\n",
    "\n",
    "        # Mean pooling\n",
    "        attention_mask = inputs['attention_mask']\n",
    "        mask_expanded = attention_mask.unsqueeze(-1).expand(last_hidden_state.size()).float()\n",
    "        sum_embeddings = torch.sum(last_hidden_state * mask_expanded, 1)\n",
    "        sum_mask = torch.clamp(mask_expanded.sum(1), min=1e-9)\n",
    "        sentence_embedding = sum_embeddings / sum_mask\n",
    "\n",
    "    return sentence_embedding"
   ]
  },
  {
   "cell_type": "code",
   "execution_count": 6,
   "id": "f5c7103a",
   "metadata": {},
   "outputs": [],
   "source": [
    "pride = \"satisfied with one's achievement or high standards\"\n",
    "joy = \"feeling great happiness and overwhelming delight\"\n",
    "admiration = \"respect and high regard for something excellent or skilled\"\n",
    "amusement = \"finding something funny, lighthearted and entertaining\"\n",
    "anger = \"strong feeling of displeasure and hostility or tension\"\n",
    "annoyance = \"mild irritation or impatience for disturbance or distraction\"\n",
    "\n",
    "approval = \"favorable opinion, agreement with something\"\n",
    "caring = \"showing concern, kindness for others well-being\"\n",
    "confusion = \"lacking understanding, unsure or uncertain\"\n",
    "curiosity = \"strong feeling to know or learn something\"\n",
    "desire = \"strong feeling of wanting or wishing for something\"\n",
    "disappointment = \"displeasure due to unfulfilled expectations\"\n",
    "disapproval = \"unfavorable opinion or negative judgment\"\n",
    "disgust = \"feeling of revulsion or strong sickness due to some offensive\"\n",
    "embarrassment = \"awkward feeling, or shame in public\"\n",
    "\n",
    "excitement = \"intense enthusiasm, thrilled, energetic\"\n",
    "fear = \"acute alarm caused by perceived danger or threat\"\n",
    "gratitude = \"thankfulness and appreciation for kindness\"\n",
    "grief = \"deep sorrow, emotional pain caused by loss or death\"\n",
    "love = \"deep affection or attraction, profound connection\"\n",
    "nervousness = \"feeling uneasy, worried or apprehensive about something\"\n",
    "optimism = \"hopefulness and confidence about something in future\"\n",
    "realization = \"suddenly achieving clear understanding, awareness\"\n",
    "relief = \"feeling of release from anxiety, pain or distress\"\n",
    "remorse = \"deep regret or guilt for committed wrong doing\"\n",
    "sadness = \"unhappy, sorrowful and lacking cheerfulness\"\n",
    "surprise = \"an unexpected, startled feeling from something sudden\"\n",
    "neutral = \"absence of strong emotion, neither positive or negative\""
   ]
  },
  {
   "cell_type": "code",
   "execution_count": null,
   "id": "962da403",
   "metadata": {},
   "outputs": [],
   "source": [
    "joy_embed = get_embedding(joy)\n",
    "admiration_embed = get_embedding(admiration)\n",
    "amusement_embed = get_embedding(amusement)\n",
    "anger_embed = get_embedding(anger)\n",
    "annoyance_embed = get_embedding(annoyance)\n",
    "approval_embed = get_embedding(approval)\n",
    "caring_embed = get_embedding(caring)\n",
    "confusion_embed = get_embedding(confusion)\n",
    "curiosity_embed = get_embedding(curiosity)\n",
    "desire_embed = get_embedding(desire)\n",
    "disappointment_embed = get_embedding(disappointment)\n",
    "disapproval_embed = get_embedding(disapproval)\n",
    "disgust_embed = get_embedding(disgust)\n",
    "embarrassment_embed = get_embedding(embarrassment)\n",
    "excitement_embed = get_embedding(excitement)\n",
    "fear_embed = get_embedding(fear)\n",
    "gratitude_embed = get_embedding(gratitude)\n",
    "grief_embed = get_embedding(grief)\n",
    "love_embed = get_embedding(love)\n",
    "nervousness_embed = get_embedding(nervousness)\n",
    "optimism_embed = get_embedding(optimism)\n",
    "realization_embed = get_embedding(realization)\n",
    "relief_embed = get_embedding(relief)\n",
    "remorse_embed = get_embedding(remorse)\n",
    "sadness_embed = get_embedding(sadness)\n",
    "surprise_embed = get_embedding(surprise)\n",
    "neutral_embed =  get_embedding(neutral)\n",
    "pride_embed = get_embedding(pride)"
   ]
  },
  {
   "cell_type": "code",
   "execution_count": null,
   "id": "f76dd546",
   "metadata": {},
   "outputs": [
    {
     "data": {
      "text/plain": [
       "0.26735782623291016"
      ]
     },
     "execution_count": 18,
     "metadata": {},
     "output_type": "execute_result"
    }
   ],
   "source": [
    "from torch.nn.functional import cosine_similarity\n",
    "cosine_similarity(pride_embed, joy_embed).item()"
   ]
  },
  {
   "cell_type": "code",
   "execution_count": 17,
   "id": "57d61b2f",
   "metadata": {},
   "outputs": [
    {
     "data": {
      "text/plain": [
       "0.5900887846946716"
      ]
     },
     "execution_count": 17,
     "metadata": {},
     "output_type": "execute_result"
    }
   ],
   "source": [
    "e1 = get_embedding(\"pride\")\n",
    "e2 = get_embedding(\"joy\")\n",
    "cosine_similarity(e1, e2).item()"
   ]
  },
  {
   "cell_type": "code",
   "execution_count": 22,
   "id": "8421b801",
   "metadata": {},
   "outputs": [],
   "source": [
    "label_embeddings = {\n",
    "    \"pride\": pride_embed.tolist(),\n",
    "    \"joy\": joy_embed.tolist(),\n",
    "    \"admiration\": admiration_embed.tolist(),\n",
    "    \"amusement\": amusement_embed.tolist(),\n",
    "    \"anger\": anger_embed.tolist(),\n",
    "    \"annoyance\": annoyance_embed.tolist(),\n",
    "    \"approval\": approval_embed.tolist(),\n",
    "    \"caring\": caring_embed.tolist(),\n",
    "    \"confusion\": confusion_embed.tolist(),\n",
    "    \"curiosity\": curiosity_embed.tolist(),\n",
    "    \"desire\": desire_embed.tolist(),\n",
    "    \"disappointment\": disappointment_embed.tolist(),\n",
    "    \"disapproval\": disapproval_embed.tolist(),\n",
    "    \"disgust\": disgust_embed.tolist(),\n",
    "    \"embarrassment\": embarrassment_embed.tolist(),\n",
    "    \"excitement\": excitement_embed.tolist(),\n",
    "    \"fear\": fear_embed.tolist(),\n",
    "    \"gratitude\": gratitude_embed.tolist(),\n",
    "    \"grief\": grief_embed.tolist(),\n",
    "    \"love\": love_embed.tolist(),\n",
    "    \"nervousness\": nervousness_embed.tolist(),\n",
    "    \"optimism\": optimism_embed.tolist(),\n",
    "    \"realization\": realization_embed.tolist(),\n",
    "    \"relief\": relief_embed.tolist(),\n",
    "    \"remorse\": remorse_embed.tolist(),\n",
    "    \"sadness\": sadness_embed.tolist(),\n",
    "    \"surprise\": surprise_embed.tolist(),\n",
    "    \"neutral\": neutral_embed.tolist()\n",
    "}"
   ]
  },
  {
   "cell_type": "code",
   "execution_count": 23,
   "id": "0a3af82c",
   "metadata": {},
   "outputs": [],
   "source": [
    "import json\n",
    "\n",
    "with open(\"label_embeddings.json\", \"w\") as f:\n",
    "    json.dump(label_embeddings, f)"
   ]
  },
  {
   "cell_type": "code",
   "execution_count": 1,
   "id": "4ba5e941",
   "metadata": {},
   "outputs": [],
   "source": [
    "import json\n",
    "\n",
    "with open(\"label_embeddings.json\", \"r\") as f:\n",
    "    label_embeddings = json.load(f)"
   ]
  },
  {
   "cell_type": "code",
   "execution_count": 5,
   "id": "041a6e87",
   "metadata": {},
   "outputs": [],
   "source": [
    "emo_embed = {}\n",
    "for k, v in label_embeddings.items():\n",
    "    emo_embed[str(k)] = torch.tensor(v, dtype=torch.float32)"
   ]
  },
  {
   "cell_type": "code",
   "execution_count": 72,
   "id": "04c57989",
   "metadata": {},
   "outputs": [],
   "source": [
    "text = \"I am fed up with your behavior\"\n",
    "text_embeds = get_embedding(text)\n",
    "\n",
    "e1 = emo_embed.get(\"angry\", 0)\n",
    "w1 = 0.8\n",
    "e2 = emo_embed.get(\"disappointment\", 0)\n",
    "w2 = 0.5\n",
    "\n",
    "emotion_embeds = (w1 * e1 + w2 * e2) / (w1 + w2)"
   ]
  },
  {
   "cell_type": "code",
   "execution_count": 70,
   "id": "5f4afb7d",
   "metadata": {},
   "outputs": [
    {
     "data": {
      "text/plain": [
       "torch.Size([1, 768])"
      ]
     },
     "execution_count": 70,
     "metadata": {},
     "output_type": "execute_result"
    }
   ],
   "source": [
    "emotion_embeds.shape"
   ]
  },
  {
   "cell_type": "code",
   "execution_count": 69,
   "id": "fabc5797",
   "metadata": {},
   "outputs": [
    {
     "data": {
      "text/plain": [
       "0.06347507238388062"
      ]
     },
     "execution_count": 69,
     "metadata": {},
     "output_type": "execute_result"
    }
   ],
   "source": [
    "from torch.nn.functional import cosine_similarity\n",
    "cosine_similarity(text_embeds, emotion_embeds).item()"
   ]
  },
  {
   "cell_type": "code",
   "execution_count": 71,
   "id": "969d8fd9",
   "metadata": {},
   "outputs": [
    {
     "data": {
      "text/plain": [
       "0.07140300422906876"
      ]
     },
     "execution_count": 71,
     "metadata": {},
     "output_type": "execute_result"
    }
   ],
   "source": [
    "import torch.nn.functional as F\n",
    "\n",
    "#text_embeds = F.normalize(text_embeds, dim=0)\n",
    "emotion_embeds = F.normalize(emotion_embeds, dim=0)\n",
    "cosine_similarity(text_embeds, emotion_embeds).item()"
   ]
  },
  {
   "cell_type": "code",
   "execution_count": null,
   "id": "df526e8f",
   "metadata": {},
   "outputs": [],
   "source": []
  },
  {
   "cell_type": "code",
   "execution_count": null,
   "id": "f0e36c5e",
   "metadata": {},
   "outputs": [],
   "source": []
  },
  {
   "cell_type": "code",
   "execution_count": null,
   "id": "61a04153",
   "metadata": {},
   "outputs": [],
   "source": []
  },
  {
   "cell_type": "code",
   "execution_count": 38,
   "id": "fa104521",
   "metadata": {},
   "outputs": [
    {
     "ename": "ValueError",
     "evalue": "Found array with dim 3, while dim <= 2 is required by PCA.",
     "output_type": "error",
     "traceback": [
      "\u001b[31m---------------------------------------------------------------------------\u001b[39m",
      "\u001b[31mValueError\u001b[39m                                Traceback (most recent call last)",
      "\u001b[36mCell\u001b[39m\u001b[36m \u001b[39m\u001b[32mIn[38]\u001b[39m\u001b[32m, line 7\u001b[39m\n\u001b[32m      4\u001b[39m vectors = torch.stack([emo_embed[e] \u001b[38;5;28;01mfor\u001b[39;00m e \u001b[38;5;129;01min\u001b[39;00m emo_embed.keys()] + [text_embeds])\n\u001b[32m      5\u001b[39m labels = \u001b[38;5;28mlist\u001b[39m(emo_embed.keys()) + [\u001b[33m\"\u001b[39m\u001b[33mtext\u001b[39m\u001b[33m\"\u001b[39m]\n\u001b[32m----> \u001b[39m\u001b[32m7\u001b[39m proj = \u001b[43mPCA\u001b[49m\u001b[43m(\u001b[49m\u001b[43mn_components\u001b[49m\u001b[43m=\u001b[49m\u001b[32;43m2\u001b[39;49m\u001b[43m)\u001b[49m\u001b[43m.\u001b[49m\u001b[43mfit_transform\u001b[49m\u001b[43m(\u001b[49m\u001b[43mvectors\u001b[49m\u001b[43m.\u001b[49m\u001b[43mnumpy\u001b[49m\u001b[43m(\u001b[49m\u001b[43m)\u001b[49m\u001b[43m)\u001b[49m\n\u001b[32m      9\u001b[39m plt.figure(figsize=(\u001b[32m6\u001b[39m,\u001b[32m6\u001b[39m))\n\u001b[32m     10\u001b[39m plt.scatter(proj[:-\u001b[32m1\u001b[39m,\u001b[32m0\u001b[39m], proj[:-\u001b[32m1\u001b[39m,\u001b[32m1\u001b[39m], label=\u001b[33m\"\u001b[39m\u001b[33mEmotions\u001b[39m\u001b[33m\"\u001b[39m)\n",
      "\u001b[36mFile \u001b[39m\u001b[32md:\\My Projects\\CAPSTONE RESEARCH\\finetune.env\\Lib\\site-packages\\sklearn\\utils\\_set_output.py:316\u001b[39m, in \u001b[36m_wrap_method_output.<locals>.wrapped\u001b[39m\u001b[34m(self, X, *args, **kwargs)\u001b[39m\n\u001b[32m    314\u001b[39m \u001b[38;5;129m@wraps\u001b[39m(f)\n\u001b[32m    315\u001b[39m \u001b[38;5;28;01mdef\u001b[39;00m\u001b[38;5;250m \u001b[39m\u001b[34mwrapped\u001b[39m(\u001b[38;5;28mself\u001b[39m, X, *args, **kwargs):\n\u001b[32m--> \u001b[39m\u001b[32m316\u001b[39m     data_to_wrap = \u001b[43mf\u001b[49m\u001b[43m(\u001b[49m\u001b[38;5;28;43mself\u001b[39;49m\u001b[43m,\u001b[49m\u001b[43m \u001b[49m\u001b[43mX\u001b[49m\u001b[43m,\u001b[49m\u001b[43m \u001b[49m\u001b[43m*\u001b[49m\u001b[43margs\u001b[49m\u001b[43m,\u001b[49m\u001b[43m \u001b[49m\u001b[43m*\u001b[49m\u001b[43m*\u001b[49m\u001b[43mkwargs\u001b[49m\u001b[43m)\u001b[49m\n\u001b[32m    317\u001b[39m     \u001b[38;5;28;01mif\u001b[39;00m \u001b[38;5;28misinstance\u001b[39m(data_to_wrap, \u001b[38;5;28mtuple\u001b[39m):\n\u001b[32m    318\u001b[39m         \u001b[38;5;66;03m# only wrap the first output for cross decomposition\u001b[39;00m\n\u001b[32m    319\u001b[39m         return_tuple = (\n\u001b[32m    320\u001b[39m             _wrap_data_with_container(method, data_to_wrap[\u001b[32m0\u001b[39m], X, \u001b[38;5;28mself\u001b[39m),\n\u001b[32m    321\u001b[39m             *data_to_wrap[\u001b[32m1\u001b[39m:],\n\u001b[32m    322\u001b[39m         )\n",
      "\u001b[36mFile \u001b[39m\u001b[32md:\\My Projects\\CAPSTONE RESEARCH\\finetune.env\\Lib\\site-packages\\sklearn\\base.py:1365\u001b[39m, in \u001b[36m_fit_context.<locals>.decorator.<locals>.wrapper\u001b[39m\u001b[34m(estimator, *args, **kwargs)\u001b[39m\n\u001b[32m   1358\u001b[39m     estimator._validate_params()\n\u001b[32m   1360\u001b[39m \u001b[38;5;28;01mwith\u001b[39;00m config_context(\n\u001b[32m   1361\u001b[39m     skip_parameter_validation=(\n\u001b[32m   1362\u001b[39m         prefer_skip_nested_validation \u001b[38;5;129;01mor\u001b[39;00m global_skip_validation\n\u001b[32m   1363\u001b[39m     )\n\u001b[32m   1364\u001b[39m ):\n\u001b[32m-> \u001b[39m\u001b[32m1365\u001b[39m     \u001b[38;5;28;01mreturn\u001b[39;00m \u001b[43mfit_method\u001b[49m\u001b[43m(\u001b[49m\u001b[43mestimator\u001b[49m\u001b[43m,\u001b[49m\u001b[43m \u001b[49m\u001b[43m*\u001b[49m\u001b[43margs\u001b[49m\u001b[43m,\u001b[49m\u001b[43m \u001b[49m\u001b[43m*\u001b[49m\u001b[43m*\u001b[49m\u001b[43mkwargs\u001b[49m\u001b[43m)\u001b[49m\n",
      "\u001b[36mFile \u001b[39m\u001b[32md:\\My Projects\\CAPSTONE RESEARCH\\finetune.env\\Lib\\site-packages\\sklearn\\decomposition\\_pca.py:466\u001b[39m, in \u001b[36mPCA.fit_transform\u001b[39m\u001b[34m(self, X, y)\u001b[39m\n\u001b[32m    443\u001b[39m \u001b[38;5;129m@_fit_context\u001b[39m(prefer_skip_nested_validation=\u001b[38;5;28;01mTrue\u001b[39;00m)\n\u001b[32m    444\u001b[39m \u001b[38;5;28;01mdef\u001b[39;00m\u001b[38;5;250m \u001b[39m\u001b[34mfit_transform\u001b[39m(\u001b[38;5;28mself\u001b[39m, X, y=\u001b[38;5;28;01mNone\u001b[39;00m):\n\u001b[32m    445\u001b[39m \u001b[38;5;250m    \u001b[39m\u001b[33;03m\"\"\"Fit the model with X and apply the dimensionality reduction on X.\u001b[39;00m\n\u001b[32m    446\u001b[39m \n\u001b[32m    447\u001b[39m \u001b[33;03m    Parameters\u001b[39;00m\n\u001b[32m   (...)\u001b[39m\u001b[32m    464\u001b[39m \u001b[33;03m    C-ordered array, use 'np.ascontiguousarray'.\u001b[39;00m\n\u001b[32m    465\u001b[39m \u001b[33;03m    \"\"\"\u001b[39;00m\n\u001b[32m--> \u001b[39m\u001b[32m466\u001b[39m     U, S, _, X, x_is_centered, xp = \u001b[38;5;28;43mself\u001b[39;49m\u001b[43m.\u001b[49m\u001b[43m_fit\u001b[49m\u001b[43m(\u001b[49m\u001b[43mX\u001b[49m\u001b[43m)\u001b[49m\n\u001b[32m    467\u001b[39m     \u001b[38;5;28;01mif\u001b[39;00m U \u001b[38;5;129;01mis\u001b[39;00m \u001b[38;5;129;01mnot\u001b[39;00m \u001b[38;5;28;01mNone\u001b[39;00m:\n\u001b[32m    468\u001b[39m         U = U[:, : \u001b[38;5;28mself\u001b[39m.n_components_]\n",
      "\u001b[36mFile \u001b[39m\u001b[32md:\\My Projects\\CAPSTONE RESEARCH\\finetune.env\\Lib\\site-packages\\sklearn\\decomposition\\_pca.py:503\u001b[39m, in \u001b[36mPCA._fit\u001b[39m\u001b[34m(self, X)\u001b[39m\n\u001b[32m    493\u001b[39m     \u001b[38;5;28;01mraise\u001b[39;00m \u001b[38;5;167;01mValueError\u001b[39;00m(\n\u001b[32m    494\u001b[39m         \u001b[33m\"\u001b[39m\u001b[33mPCA with svd_solver=\u001b[39m\u001b[33m'\u001b[39m\u001b[33marpack\u001b[39m\u001b[33m'\u001b[39m\u001b[33m is not supported for Array API inputs.\u001b[39m\u001b[33m\"\u001b[39m\n\u001b[32m    495\u001b[39m     )\n\u001b[32m    497\u001b[39m \u001b[38;5;66;03m# Validate the data, without ever forcing a copy as any solver that\u001b[39;00m\n\u001b[32m    498\u001b[39m \u001b[38;5;66;03m# supports sparse input data and the `covariance_eigh` solver are\u001b[39;00m\n\u001b[32m    499\u001b[39m \u001b[38;5;66;03m# written in a way to avoid the need for any inplace modification of\u001b[39;00m\n\u001b[32m    500\u001b[39m \u001b[38;5;66;03m# the input data contrary to the other solvers.\u001b[39;00m\n\u001b[32m    501\u001b[39m \u001b[38;5;66;03m# The copy will happen\u001b[39;00m\n\u001b[32m    502\u001b[39m \u001b[38;5;66;03m# later, only if needed, once the solver negotiation below is done.\u001b[39;00m\n\u001b[32m--> \u001b[39m\u001b[32m503\u001b[39m X = \u001b[43mvalidate_data\u001b[49m\u001b[43m(\u001b[49m\n\u001b[32m    504\u001b[39m \u001b[43m    \u001b[49m\u001b[38;5;28;43mself\u001b[39;49m\u001b[43m,\u001b[49m\n\u001b[32m    505\u001b[39m \u001b[43m    \u001b[49m\u001b[43mX\u001b[49m\u001b[43m,\u001b[49m\n\u001b[32m    506\u001b[39m \u001b[43m    \u001b[49m\u001b[43mdtype\u001b[49m\u001b[43m=\u001b[49m\u001b[43m[\u001b[49m\u001b[43mxp\u001b[49m\u001b[43m.\u001b[49m\u001b[43mfloat64\u001b[49m\u001b[43m,\u001b[49m\u001b[43m \u001b[49m\u001b[43mxp\u001b[49m\u001b[43m.\u001b[49m\u001b[43mfloat32\u001b[49m\u001b[43m]\u001b[49m\u001b[43m,\u001b[49m\n\u001b[32m    507\u001b[39m \u001b[43m    \u001b[49m\u001b[43mforce_writeable\u001b[49m\u001b[43m=\u001b[49m\u001b[38;5;28;43;01mTrue\u001b[39;49;00m\u001b[43m,\u001b[49m\n\u001b[32m    508\u001b[39m \u001b[43m    \u001b[49m\u001b[43maccept_sparse\u001b[49m\u001b[43m=\u001b[49m\u001b[43m(\u001b[49m\u001b[33;43m\"\u001b[39;49m\u001b[33;43mcsr\u001b[39;49m\u001b[33;43m\"\u001b[39;49m\u001b[43m,\u001b[49m\u001b[43m \u001b[49m\u001b[33;43m\"\u001b[39;49m\u001b[33;43mcsc\u001b[39;49m\u001b[33;43m\"\u001b[39;49m\u001b[43m)\u001b[49m\u001b[43m,\u001b[49m\n\u001b[32m    509\u001b[39m \u001b[43m    \u001b[49m\u001b[43mensure_2d\u001b[49m\u001b[43m=\u001b[49m\u001b[38;5;28;43;01mTrue\u001b[39;49;00m\u001b[43m,\u001b[49m\n\u001b[32m    510\u001b[39m \u001b[43m    \u001b[49m\u001b[43mcopy\u001b[49m\u001b[43m=\u001b[49m\u001b[38;5;28;43;01mFalse\u001b[39;49;00m\u001b[43m,\u001b[49m\n\u001b[32m    511\u001b[39m \u001b[43m\u001b[49m\u001b[43m)\u001b[49m\n\u001b[32m    512\u001b[39m \u001b[38;5;28mself\u001b[39m._fit_svd_solver = \u001b[38;5;28mself\u001b[39m.svd_solver\n\u001b[32m    513\u001b[39m \u001b[38;5;28;01mif\u001b[39;00m \u001b[38;5;28mself\u001b[39m._fit_svd_solver == \u001b[33m\"\u001b[39m\u001b[33mauto\u001b[39m\u001b[33m\"\u001b[39m \u001b[38;5;129;01mand\u001b[39;00m issparse(X):\n",
      "\u001b[36mFile \u001b[39m\u001b[32md:\\My Projects\\CAPSTONE RESEARCH\\finetune.env\\Lib\\site-packages\\sklearn\\utils\\validation.py:2954\u001b[39m, in \u001b[36mvalidate_data\u001b[39m\u001b[34m(_estimator, X, y, reset, validate_separately, skip_check_array, **check_params)\u001b[39m\n\u001b[32m   2952\u001b[39m         out = X, y\n\u001b[32m   2953\u001b[39m \u001b[38;5;28;01melif\u001b[39;00m \u001b[38;5;129;01mnot\u001b[39;00m no_val_X \u001b[38;5;129;01mand\u001b[39;00m no_val_y:\n\u001b[32m-> \u001b[39m\u001b[32m2954\u001b[39m     out = \u001b[43mcheck_array\u001b[49m\u001b[43m(\u001b[49m\u001b[43mX\u001b[49m\u001b[43m,\u001b[49m\u001b[43m \u001b[49m\u001b[43minput_name\u001b[49m\u001b[43m=\u001b[49m\u001b[33;43m\"\u001b[39;49m\u001b[33;43mX\u001b[39;49m\u001b[33;43m\"\u001b[39;49m\u001b[43m,\u001b[49m\u001b[43m \u001b[49m\u001b[43m*\u001b[49m\u001b[43m*\u001b[49m\u001b[43mcheck_params\u001b[49m\u001b[43m)\u001b[49m\n\u001b[32m   2955\u001b[39m \u001b[38;5;28;01melif\u001b[39;00m no_val_X \u001b[38;5;129;01mand\u001b[39;00m \u001b[38;5;129;01mnot\u001b[39;00m no_val_y:\n\u001b[32m   2956\u001b[39m     out = _check_y(y, **check_params)\n",
      "\u001b[36mFile \u001b[39m\u001b[32md:\\My Projects\\CAPSTONE RESEARCH\\finetune.env\\Lib\\site-packages\\sklearn\\utils\\validation.py:1099\u001b[39m, in \u001b[36mcheck_array\u001b[39m\u001b[34m(array, accept_sparse, accept_large_sparse, dtype, order, copy, force_writeable, force_all_finite, ensure_all_finite, ensure_non_negative, ensure_2d, allow_nd, ensure_min_samples, ensure_min_features, estimator, input_name)\u001b[39m\n\u001b[32m   1094\u001b[39m     \u001b[38;5;28;01mraise\u001b[39;00m \u001b[38;5;167;01mValueError\u001b[39;00m(\n\u001b[32m   1095\u001b[39m         \u001b[33m\"\u001b[39m\u001b[33mdtype=\u001b[39m\u001b[33m'\u001b[39m\u001b[33mnumeric\u001b[39m\u001b[33m'\u001b[39m\u001b[33m is not compatible with arrays of bytes/strings.\u001b[39m\u001b[33m\"\u001b[39m\n\u001b[32m   1096\u001b[39m         \u001b[33m\"\u001b[39m\u001b[33mConvert your data to numeric values explicitly instead.\u001b[39m\u001b[33m\"\u001b[39m\n\u001b[32m   1097\u001b[39m     )\n\u001b[32m   1098\u001b[39m \u001b[38;5;28;01mif\u001b[39;00m \u001b[38;5;129;01mnot\u001b[39;00m allow_nd \u001b[38;5;129;01mand\u001b[39;00m array.ndim >= \u001b[32m3\u001b[39m:\n\u001b[32m-> \u001b[39m\u001b[32m1099\u001b[39m     \u001b[38;5;28;01mraise\u001b[39;00m \u001b[38;5;167;01mValueError\u001b[39;00m(\n\u001b[32m   1100\u001b[39m         \u001b[33mf\u001b[39m\u001b[33m\"\u001b[39m\u001b[33mFound array with dim \u001b[39m\u001b[38;5;132;01m{\u001b[39;00marray.ndim\u001b[38;5;132;01m}\u001b[39;00m\u001b[33m,\u001b[39m\u001b[33m\"\u001b[39m\n\u001b[32m   1101\u001b[39m         \u001b[33mf\u001b[39m\u001b[33m\"\u001b[39m\u001b[33m while dim <= 2 is required\u001b[39m\u001b[38;5;132;01m{\u001b[39;00mcontext\u001b[38;5;132;01m}\u001b[39;00m\u001b[33m.\u001b[39m\u001b[33m\"\u001b[39m\n\u001b[32m   1102\u001b[39m     )\n\u001b[32m   1104\u001b[39m \u001b[38;5;28;01mif\u001b[39;00m ensure_all_finite:\n\u001b[32m   1105\u001b[39m     _assert_all_finite(\n\u001b[32m   1106\u001b[39m         array,\n\u001b[32m   1107\u001b[39m         input_name=input_name,\n\u001b[32m   1108\u001b[39m         estimator_name=estimator_name,\n\u001b[32m   1109\u001b[39m         allow_nan=ensure_all_finite == \u001b[33m\"\u001b[39m\u001b[33mallow-nan\u001b[39m\u001b[33m\"\u001b[39m,\n\u001b[32m   1110\u001b[39m     )\n",
      "\u001b[31mValueError\u001b[39m: Found array with dim 3, while dim <= 2 is required by PCA."
     ]
    }
   ],
   "source": [
    "import matplotlib.pyplot as plt\n",
    "from sklearn.decomposition import PCA\n",
    "\n",
    "vectors = torch.stack([emo_embed[e] for e in emo_embed.keys()] + [text_embeds])\n",
    "labels = list(emo_embed.keys()) + [\"text\"]\n",
    "\n",
    "proj = PCA(n_components=2).fit_transform(vectors.numpy())\n",
    "\n",
    "plt.figure(figsize=(6,6))\n",
    "plt.scatter(proj[:-1,0], proj[:-1,1], label=\"Emotions\")\n",
    "plt.scatter(proj[-1,0], proj[-1,1], color='red', label=\"Text\")\n",
    "for i, name in enumerate(labels):\n",
    "    plt.text(proj[i,0]+0.01, proj[i,1]+0.01, name)\n",
    "plt.legend()\n",
    "plt.title(\"PCA Projection of Text vs Emotion Embeddings\")\n",
    "plt.show()"
   ]
  },
  {
   "cell_type": "code",
   "execution_count": null,
   "id": "2704f02d",
   "metadata": {},
   "outputs": [],
   "source": []
  },
  {
   "cell_type": "code",
   "execution_count": 19,
   "id": "863630a4",
   "metadata": {},
   "outputs": [
    {
     "data": {
      "image/png": "[encoded data removed]",
      "text/plain": [
       "<Figure size 640x480 with 1 Axes>"
      ]
     },
     "metadata": {},
     "output_type": "display_data"
    }
   ],
   "source": [
    "from sklearn.manifold import TSNE\n",
    "import matplotlib.pyplot as plt\n",
    "\n",
    "combined = np.concatenate([text_embeds, emotion_embeds])\n",
    "labels = np.array([\"text\"] * len(text_embeds) + [\"emotion\"] * len(emotion_embeds))\n",
    "\n",
    "tsne = TSNE(n_components=2, perplexity=1, random_state=42)\n",
    "proj = tsne.fit_transform(combined)\n",
    "\n",
    "plt.scatter(proj[labels==\"text\",0], proj[labels==\"text\",1], alpha=0.6, label=\"Text\")\n",
    "plt.scatter(proj[labels==\"emotion\",0], proj[labels==\"emotion\",1], alpha=0.6, label=\"Emotion\")\n",
    "plt.legend()\n",
    "plt.title(\"t-SNE Projection: Text vs Emotion Embedding Spaces\")\n",
    "plt.show()\n"
   ]
  },
  {
   "cell_type": "code",
   "execution_count": null,
   "id": "d50fbc7f",
   "metadata": {},
   "outputs": [],
   "source": []
  },
  {
   "cell_type": "code",
   "execution_count": 20,
   "id": "25156ca0",
   "metadata": {},
   "outputs": [
    {
     "ename": "ValueError",
     "evalue": "Found array with 1 sample(s) (shape=(1, 768)) while a minimum of 2 is required by CCA.",
     "output_type": "error",
     "traceback": [
      "\u001b[31m---------------------------------------------------------------------------\u001b[39m",
      "\u001b[31mValueError\u001b[39m                                Traceback (most recent call last)",
      "\u001b[36mCell\u001b[39m\u001b[36m \u001b[39m\u001b[32mIn[20]\u001b[39m\u001b[32m, line 4\u001b[39m\n\u001b[32m      1\u001b[39m \u001b[38;5;28;01mfrom\u001b[39;00m\u001b[38;5;250m \u001b[39m\u001b[34;01msklearn\u001b[39;00m\u001b[34;01m.\u001b[39;00m\u001b[34;01mcross_decomposition\u001b[39;00m\u001b[38;5;250m \u001b[39m\u001b[38;5;28;01mimport\u001b[39;00m CCA\n\u001b[32m      3\u001b[39m cca = CCA(n_components=\u001b[38;5;28mmin\u001b[39m(text_embeds.shape[\u001b[32m1\u001b[39m], emotion_embeds.shape[\u001b[32m1\u001b[39m]))\n\u001b[32m----> \u001b[39m\u001b[32m4\u001b[39m \u001b[43mcca\u001b[49m\u001b[43m.\u001b[49m\u001b[43mfit\u001b[49m\u001b[43m(\u001b[49m\u001b[43mtext_embeds\u001b[49m\u001b[43m,\u001b[49m\u001b[43m \u001b[49m\u001b[43memotion_embeds\u001b[49m\u001b[43m)\u001b[49m\n\u001b[32m      5\u001b[39m corrs = np.corrcoef(cca.x_scores_.T, cca.y_scores_.T).diagonal()\n\u001b[32m      6\u001b[39m \u001b[38;5;28mprint\u001b[39m(\u001b[33mf\u001b[39m\u001b[33m\"\u001b[39m\u001b[33mAverage canonical correlation: \u001b[39m\u001b[38;5;132;01m{\u001b[39;00mnp.mean(corrs)\u001b[38;5;132;01m:\u001b[39;00m\u001b[33m.4f\u001b[39m\u001b[38;5;132;01m}\u001b[39;00m\u001b[33m\"\u001b[39m)\n",
      "\u001b[36mFile \u001b[39m\u001b[32md:\\My Projects\\CAPSTONE RESEARCH\\finetune.env\\Lib\\site-packages\\sklearn\\base.py:1365\u001b[39m, in \u001b[36m_fit_context.<locals>.decorator.<locals>.wrapper\u001b[39m\u001b[34m(estimator, *args, **kwargs)\u001b[39m\n\u001b[32m   1358\u001b[39m     estimator._validate_params()\n\u001b[32m   1360\u001b[39m \u001b[38;5;28;01mwith\u001b[39;00m config_context(\n\u001b[32m   1361\u001b[39m     skip_parameter_validation=(\n\u001b[32m   1362\u001b[39m         prefer_skip_nested_validation \u001b[38;5;129;01mor\u001b[39;00m global_skip_validation\n\u001b[32m   1363\u001b[39m     )\n\u001b[32m   1364\u001b[39m ):\n\u001b[32m-> \u001b[39m\u001b[32m1365\u001b[39m     \u001b[38;5;28;01mreturn\u001b[39;00m \u001b[43mfit_method\u001b[49m\u001b[43m(\u001b[49m\u001b[43mestimator\u001b[49m\u001b[43m,\u001b[49m\u001b[43m \u001b[49m\u001b[43m*\u001b[49m\u001b[43margs\u001b[49m\u001b[43m,\u001b[49m\u001b[43m \u001b[49m\u001b[43m*\u001b[49m\u001b[43m*\u001b[49m\u001b[43mkwargs\u001b[49m\u001b[43m)\u001b[49m\n",
      "\u001b[36mFile \u001b[39m\u001b[32md:\\My Projects\\CAPSTONE RESEARCH\\finetune.env\\Lib\\site-packages\\sklearn\\cross_decomposition\\_pls.py:225\u001b[39m, in \u001b[36m_PLS.fit\u001b[39m\u001b[34m(self, X, y)\u001b[39m\n\u001b[32m    207\u001b[39m \u001b[38;5;250m\u001b[39m\u001b[33;03m\"\"\"Fit model to data.\u001b[39;00m\n\u001b[32m    208\u001b[39m \n\u001b[32m    209\u001b[39m \u001b[33;03mParameters\u001b[39;00m\n\u001b[32m   (...)\u001b[39m\u001b[32m    222\u001b[39m \u001b[33;03m    Fitted model.\u001b[39;00m\n\u001b[32m    223\u001b[39m \u001b[33;03m\"\"\"\u001b[39;00m\n\u001b[32m    224\u001b[39m check_consistent_length(X, y)\n\u001b[32m--> \u001b[39m\u001b[32m225\u001b[39m X = \u001b[43mvalidate_data\u001b[49m\u001b[43m(\u001b[49m\n\u001b[32m    226\u001b[39m \u001b[43m    \u001b[49m\u001b[38;5;28;43mself\u001b[39;49m\u001b[43m,\u001b[49m\n\u001b[32m    227\u001b[39m \u001b[43m    \u001b[49m\u001b[43mX\u001b[49m\u001b[43m,\u001b[49m\n\u001b[32m    228\u001b[39m \u001b[43m    \u001b[49m\u001b[43mdtype\u001b[49m\u001b[43m=\u001b[49m\u001b[43mnp\u001b[49m\u001b[43m.\u001b[49m\u001b[43mfloat64\u001b[49m\u001b[43m,\u001b[49m\n\u001b[32m    229\u001b[39m \u001b[43m    \u001b[49m\u001b[43mforce_writeable\u001b[49m\u001b[43m=\u001b[49m\u001b[38;5;28;43;01mTrue\u001b[39;49;00m\u001b[43m,\u001b[49m\n\u001b[32m    230\u001b[39m \u001b[43m    \u001b[49m\u001b[43mcopy\u001b[49m\u001b[43m=\u001b[49m\u001b[38;5;28;43mself\u001b[39;49m\u001b[43m.\u001b[49m\u001b[43mcopy\u001b[49m\u001b[43m,\u001b[49m\n\u001b[32m    231\u001b[39m \u001b[43m    \u001b[49m\u001b[43mensure_min_samples\u001b[49m\u001b[43m=\u001b[49m\u001b[32;43m2\u001b[39;49m\u001b[43m,\u001b[49m\n\u001b[32m    232\u001b[39m \u001b[43m\u001b[49m\u001b[43m)\u001b[49m\n\u001b[32m    233\u001b[39m y = check_array(\n\u001b[32m    234\u001b[39m     y,\n\u001b[32m    235\u001b[39m     input_name=\u001b[33m\"\u001b[39m\u001b[33my\u001b[39m\u001b[33m\"\u001b[39m,\n\u001b[32m   (...)\u001b[39m\u001b[32m    239\u001b[39m     ensure_2d=\u001b[38;5;28;01mFalse\u001b[39;00m,\n\u001b[32m    240\u001b[39m )\n\u001b[32m    241\u001b[39m \u001b[38;5;28;01mif\u001b[39;00m y.ndim == \u001b[32m1\u001b[39m:\n",
      "\u001b[36mFile \u001b[39m\u001b[32md:\\My Projects\\CAPSTONE RESEARCH\\finetune.env\\Lib\\site-packages\\sklearn\\utils\\validation.py:2954\u001b[39m, in \u001b[36mvalidate_data\u001b[39m\u001b[34m(_estimator, X, y, reset, validate_separately, skip_check_array, **check_params)\u001b[39m\n\u001b[32m   2952\u001b[39m         out = X, y\n\u001b[32m   2953\u001b[39m \u001b[38;5;28;01melif\u001b[39;00m \u001b[38;5;129;01mnot\u001b[39;00m no_val_X \u001b[38;5;129;01mand\u001b[39;00m no_val_y:\n\u001b[32m-> \u001b[39m\u001b[32m2954\u001b[39m     out = \u001b[43mcheck_array\u001b[49m\u001b[43m(\u001b[49m\u001b[43mX\u001b[49m\u001b[43m,\u001b[49m\u001b[43m \u001b[49m\u001b[43minput_name\u001b[49m\u001b[43m=\u001b[49m\u001b[33;43m\"\u001b[39;49m\u001b[33;43mX\u001b[39;49m\u001b[33;43m\"\u001b[39;49m\u001b[43m,\u001b[49m\u001b[43m \u001b[49m\u001b[43m*\u001b[49m\u001b[43m*\u001b[49m\u001b[43mcheck_params\u001b[49m\u001b[43m)\u001b[49m\n\u001b[32m   2955\u001b[39m \u001b[38;5;28;01melif\u001b[39;00m no_val_X \u001b[38;5;129;01mand\u001b[39;00m \u001b[38;5;129;01mnot\u001b[39;00m no_val_y:\n\u001b[32m   2956\u001b[39m     out = _check_y(y, **check_params)\n",
      "\u001b[36mFile \u001b[39m\u001b[32md:\\My Projects\\CAPSTONE RESEARCH\\finetune.env\\Lib\\site-packages\\sklearn\\utils\\validation.py:1128\u001b[39m, in \u001b[36mcheck_array\u001b[39m\u001b[34m(array, accept_sparse, accept_large_sparse, dtype, order, copy, force_writeable, force_all_finite, ensure_all_finite, ensure_non_negative, ensure_2d, allow_nd, ensure_min_samples, ensure_min_features, estimator, input_name)\u001b[39m\n\u001b[32m   1126\u001b[39m     n_samples = _num_samples(array)\n\u001b[32m   1127\u001b[39m     \u001b[38;5;28;01mif\u001b[39;00m n_samples < ensure_min_samples:\n\u001b[32m-> \u001b[39m\u001b[32m1128\u001b[39m         \u001b[38;5;28;01mraise\u001b[39;00m \u001b[38;5;167;01mValueError\u001b[39;00m(\n\u001b[32m   1129\u001b[39m             \u001b[33m\"\u001b[39m\u001b[33mFound array with \u001b[39m\u001b[38;5;132;01m%d\u001b[39;00m\u001b[33m sample(s) (shape=\u001b[39m\u001b[38;5;132;01m%s\u001b[39;00m\u001b[33m) while a\u001b[39m\u001b[33m\"\u001b[39m\n\u001b[32m   1130\u001b[39m             \u001b[33m\"\u001b[39m\u001b[33m minimum of \u001b[39m\u001b[38;5;132;01m%d\u001b[39;00m\u001b[33m is required\u001b[39m\u001b[38;5;132;01m%s\u001b[39;00m\u001b[33m.\u001b[39m\u001b[33m\"\u001b[39m\n\u001b[32m   1131\u001b[39m             % (n_samples, array.shape, ensure_min_samples, context)\n\u001b[32m   1132\u001b[39m         )\n\u001b[32m   1134\u001b[39m \u001b[38;5;28;01mif\u001b[39;00m ensure_min_features > \u001b[32m0\u001b[39m \u001b[38;5;129;01mand\u001b[39;00m array.ndim == \u001b[32m2\u001b[39m:\n\u001b[32m   1135\u001b[39m     n_features = array.shape[\u001b[32m1\u001b[39m]\n",
      "\u001b[31mValueError\u001b[39m: Found array with 1 sample(s) (shape=(1, 768)) while a minimum of 2 is required by CCA."
     ]
    }
   ],
   "source": [
    "from sklearn.cross_decomposition import CCA\n",
    "\n",
    "cca = CCA(n_components=min(text_embeds.shape[1], emotion_embeds.shape[1]))\n",
    "cca.fit(text_embeds, emotion_embeds)\n",
    "corrs = np.corrcoef(cca.x_scores_.T, cca.y_scores_.T).diagonal()\n",
    "print(f\"Average canonical correlation: {np.mean(corrs):.4f}\")"
   ]
  }
 ],
 "metadata": {
  "kernelspec": {
   "display_name": "Python 3",
   "language": "python",
   "name": "python3"
  },
  "language_info": {
   "codemirror_mode": {
    "name": "ipython",
    "version": 3
   },
   "file_extension": ".py",
   "mimetype": "text/x-python",
   "name": "python",
   "nbconvert_exporter": "python",
   "pygments_lexer": "ipython3",
   "version": "3.11.5"
  }
 },
 "nbformat": 4,
 "nbformat_minor": 5
}
